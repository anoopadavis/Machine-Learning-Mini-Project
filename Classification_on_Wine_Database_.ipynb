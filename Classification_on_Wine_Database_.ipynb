{
  "nbformat": 4,
  "nbformat_minor": 0,
  "metadata": {
    "colab": {
      "name": "Classification on Wine Database .ipynb",
      "provenance": [],
      "collapsed_sections": [],
      "authorship_tag": "ABX9TyP6iqdmNYvBFziQeDjBdlte",
      "include_colab_link": true
    },
    "kernelspec": {
      "name": "python3",
      "display_name": "Python 3"
    }
  },
  "cells": [
    {
      "cell_type": "markdown",
      "metadata": {
        "id": "view-in-github",
        "colab_type": "text"
      },
      "source": [
        "<a href=\"https://colab.research.google.com/github/anoopadavis/Machine-Learning-Mini-Project/blob/master/Classification_on_Wine_Database_.ipynb\" target=\"_parent\"><img src=\"https://colab.research.google.com/assets/colab-badge.svg\" alt=\"Open In Colab\"/></a>"
      ]
    },
    {
      "cell_type": "markdown",
      "metadata": {
        "id": "Jr4ghyiBGydB",
        "colab_type": "text"
      },
      "source": [
        "PROJECT DESCRIPTION\n",
        "These data are the results of a chemical analysis of wines grown in the same region in Italy but derived from three different cultivars. The analysis determined the quantities of 13 constituents found in each of the three types of wines.\n",
        "The objective is to predict using KNN algorithm which farm/cultivar a wine of a given chemical properties come from."
      ]
    },
    {
      "cell_type": "markdown",
      "metadata": {
        "id": "NtEbUjHOEzVV",
        "colab_type": "text"
      },
      "source": [
        "Loading dataset"
      ]
    },
    {
      "cell_type": "code",
      "metadata": {
        "id": "hxyflobturyB",
        "colab_type": "code",
        "colab": {
          "base_uri": "https://localhost:8080/",
          "height": 438
        },
        "outputId": "7152fdf7-4133-454c-8ef4-84282fbe781e"
      },
      "source": [
        "import pandas as pd\n",
        "df = pd.read_csv('/Wine dataset - shuffled.csv')\n",
        "df"
      ],
      "execution_count": 3,
      "outputs": [
        {
          "output_type": "execute_result",
          "data": {
            "text/html": [
              "<div>\n",
              "<style scoped>\n",
              "    .dataframe tbody tr th:only-of-type {\n",
              "        vertical-align: middle;\n",
              "    }\n",
              "\n",
              "    .dataframe tbody tr th {\n",
              "        vertical-align: top;\n",
              "    }\n",
              "\n",
              "    .dataframe thead th {\n",
              "        text-align: right;\n",
              "    }\n",
              "</style>\n",
              "<table border=\"1\" class=\"dataframe\">\n",
              "  <thead>\n",
              "    <tr style=\"text-align: right;\">\n",
              "      <th></th>\n",
              "      <th>Farm</th>\n",
              "      <th>Alcohol</th>\n",
              "      <th>Mlic acid</th>\n",
              "      <th>Ash</th>\n",
              "      <th>Ash_Alcanity</th>\n",
              "      <th>Magnesium</th>\n",
              "      <th>Total_Phenols</th>\n",
              "      <th>Flavanoids</th>\n",
              "      <th>Nonflavanoidphenols</th>\n",
              "      <th>Proanthocyanins</th>\n",
              "      <th>Color_intensity</th>\n",
              "      <th>Hue</th>\n",
              "      <th>OD280</th>\n",
              "      <th>Proline</th>\n",
              "    </tr>\n",
              "  </thead>\n",
              "  <tbody>\n",
              "    <tr>\n",
              "      <th>0</th>\n",
              "      <td>3</td>\n",
              "      <td>13.17</td>\n",
              "      <td>2.59</td>\n",
              "      <td>2.37</td>\n",
              "      <td>20.0</td>\n",
              "      <td>120</td>\n",
              "      <td>1.65</td>\n",
              "      <td>0.68</td>\n",
              "      <td>0.53</td>\n",
              "      <td>1.46</td>\n",
              "      <td>9.30</td>\n",
              "      <td>0.60</td>\n",
              "      <td>1.62</td>\n",
              "      <td>840</td>\n",
              "    </tr>\n",
              "    <tr>\n",
              "      <th>1</th>\n",
              "      <td>3</td>\n",
              "      <td>13.23</td>\n",
              "      <td>3.30</td>\n",
              "      <td>2.28</td>\n",
              "      <td>18.5</td>\n",
              "      <td>98</td>\n",
              "      <td>1.80</td>\n",
              "      <td>0.83</td>\n",
              "      <td>0.61</td>\n",
              "      <td>1.87</td>\n",
              "      <td>10.52</td>\n",
              "      <td>0.56</td>\n",
              "      <td>1.51</td>\n",
              "      <td>675</td>\n",
              "    </tr>\n",
              "    <tr>\n",
              "      <th>2</th>\n",
              "      <td>3</td>\n",
              "      <td>14.13</td>\n",
              "      <td>4.10</td>\n",
              "      <td>2.74</td>\n",
              "      <td>24.5</td>\n",
              "      <td>96</td>\n",
              "      <td>2.05</td>\n",
              "      <td>0.76</td>\n",
              "      <td>0.56</td>\n",
              "      <td>1.35</td>\n",
              "      <td>9.20</td>\n",
              "      <td>0.61</td>\n",
              "      <td>1.60</td>\n",
              "      <td>560</td>\n",
              "    </tr>\n",
              "    <tr>\n",
              "      <th>3</th>\n",
              "      <td>3</td>\n",
              "      <td>12.51</td>\n",
              "      <td>1.24</td>\n",
              "      <td>2.25</td>\n",
              "      <td>17.5</td>\n",
              "      <td>85</td>\n",
              "      <td>2.00</td>\n",
              "      <td>0.58</td>\n",
              "      <td>0.60</td>\n",
              "      <td>1.25</td>\n",
              "      <td>5.45</td>\n",
              "      <td>0.75</td>\n",
              "      <td>1.51</td>\n",
              "      <td>650</td>\n",
              "    </tr>\n",
              "    <tr>\n",
              "      <th>4</th>\n",
              "      <td>1</td>\n",
              "      <td>13.48</td>\n",
              "      <td>1.81</td>\n",
              "      <td>2.41</td>\n",
              "      <td>20.5</td>\n",
              "      <td>100</td>\n",
              "      <td>2.70</td>\n",
              "      <td>2.98</td>\n",
              "      <td>0.26</td>\n",
              "      <td>1.86</td>\n",
              "      <td>5.10</td>\n",
              "      <td>1.04</td>\n",
              "      <td>3.47</td>\n",
              "      <td>920</td>\n",
              "    </tr>\n",
              "    <tr>\n",
              "      <th>...</th>\n",
              "      <td>...</td>\n",
              "      <td>...</td>\n",
              "      <td>...</td>\n",
              "      <td>...</td>\n",
              "      <td>...</td>\n",
              "      <td>...</td>\n",
              "      <td>...</td>\n",
              "      <td>...</td>\n",
              "      <td>...</td>\n",
              "      <td>...</td>\n",
              "      <td>...</td>\n",
              "      <td>...</td>\n",
              "      <td>...</td>\n",
              "      <td>...</td>\n",
              "    </tr>\n",
              "    <tr>\n",
              "      <th>173</th>\n",
              "      <td>3</td>\n",
              "      <td>13.48</td>\n",
              "      <td>1.67</td>\n",
              "      <td>2.64</td>\n",
              "      <td>22.5</td>\n",
              "      <td>89</td>\n",
              "      <td>2.60</td>\n",
              "      <td>1.10</td>\n",
              "      <td>0.52</td>\n",
              "      <td>2.29</td>\n",
              "      <td>11.75</td>\n",
              "      <td>0.57</td>\n",
              "      <td>1.78</td>\n",
              "      <td>620</td>\n",
              "    </tr>\n",
              "    <tr>\n",
              "      <th>174</th>\n",
              "      <td>1</td>\n",
              "      <td>13.83</td>\n",
              "      <td>1.65</td>\n",
              "      <td>2.60</td>\n",
              "      <td>17.2</td>\n",
              "      <td>94</td>\n",
              "      <td>2.45</td>\n",
              "      <td>2.99</td>\n",
              "      <td>0.22</td>\n",
              "      <td>2.29</td>\n",
              "      <td>5.60</td>\n",
              "      <td>1.24</td>\n",
              "      <td>3.37</td>\n",
              "      <td>1265</td>\n",
              "    </tr>\n",
              "    <tr>\n",
              "      <th>175</th>\n",
              "      <td>2</td>\n",
              "      <td>12.25</td>\n",
              "      <td>1.73</td>\n",
              "      <td>2.12</td>\n",
              "      <td>19.0</td>\n",
              "      <td>80</td>\n",
              "      <td>1.65</td>\n",
              "      <td>2.03</td>\n",
              "      <td>0.37</td>\n",
              "      <td>1.63</td>\n",
              "      <td>3.40</td>\n",
              "      <td>1.00</td>\n",
              "      <td>3.17</td>\n",
              "      <td>510</td>\n",
              "    </tr>\n",
              "    <tr>\n",
              "      <th>176</th>\n",
              "      <td>2</td>\n",
              "      <td>11.56</td>\n",
              "      <td>2.05</td>\n",
              "      <td>3.23</td>\n",
              "      <td>28.5</td>\n",
              "      <td>119</td>\n",
              "      <td>3.18</td>\n",
              "      <td>5.08</td>\n",
              "      <td>0.47</td>\n",
              "      <td>1.87</td>\n",
              "      <td>6.00</td>\n",
              "      <td>0.93</td>\n",
              "      <td>3.69</td>\n",
              "      <td>465</td>\n",
              "    </tr>\n",
              "    <tr>\n",
              "      <th>177</th>\n",
              "      <td>1</td>\n",
              "      <td>14.75</td>\n",
              "      <td>1.73</td>\n",
              "      <td>2.39</td>\n",
              "      <td>11.4</td>\n",
              "      <td>91</td>\n",
              "      <td>3.10</td>\n",
              "      <td>3.69</td>\n",
              "      <td>0.43</td>\n",
              "      <td>2.81</td>\n",
              "      <td>5.40</td>\n",
              "      <td>1.25</td>\n",
              "      <td>2.73</td>\n",
              "      <td>1150</td>\n",
              "    </tr>\n",
              "  </tbody>\n",
              "</table>\n",
              "<p>178 rows × 14 columns</p>\n",
              "</div>"
            ],
            "text/plain": [
              "     Farm  Alcohol  Mlic acid   Ash  ...  Color_intensity   Hue  OD280  Proline\n",
              "0       3    13.17       2.59  2.37  ...             9.30  0.60   1.62      840\n",
              "1       3    13.23       3.30  2.28  ...            10.52  0.56   1.51      675\n",
              "2       3    14.13       4.10  2.74  ...             9.20  0.61   1.60      560\n",
              "3       3    12.51       1.24  2.25  ...             5.45  0.75   1.51      650\n",
              "4       1    13.48       1.81  2.41  ...             5.10  1.04   3.47      920\n",
              "..    ...      ...        ...   ...  ...              ...   ...    ...      ...\n",
              "173     3    13.48       1.67  2.64  ...            11.75  0.57   1.78      620\n",
              "174     1    13.83       1.65  2.60  ...             5.60  1.24   3.37     1265\n",
              "175     2    12.25       1.73  2.12  ...             3.40  1.00   3.17      510\n",
              "176     2    11.56       2.05  3.23  ...             6.00  0.93   3.69      465\n",
              "177     1    14.75       1.73  2.39  ...             5.40  1.25   2.73     1150\n",
              "\n",
              "[178 rows x 14 columns]"
            ]
          },
          "metadata": {
            "tags": []
          },
          "execution_count": 3
        }
      ]
    },
    {
      "cell_type": "markdown",
      "metadata": {
        "id": "b6GPekhTE7Nn",
        "colab_type": "text"
      },
      "source": [
        "Exploring dataset"
      ]
    },
    {
      "cell_type": "code",
      "metadata": {
        "id": "2xekuoDeB8TH",
        "colab_type": "code",
        "colab": {
          "base_uri": "https://localhost:8080/",
          "height": 370
        },
        "outputId": "1078a465-834b-45ed-eac0-399ca2ab246a"
      },
      "source": [
        "df.info()"
      ],
      "execution_count": 4,
      "outputs": [
        {
          "output_type": "stream",
          "text": [
            "<class 'pandas.core.frame.DataFrame'>\n",
            "RangeIndex: 178 entries, 0 to 177\n",
            "Data columns (total 14 columns):\n",
            " #   Column               Non-Null Count  Dtype  \n",
            "---  ------               --------------  -----  \n",
            " 0   Farm                 178 non-null    int64  \n",
            " 1   Alcohol              178 non-null    float64\n",
            " 2   Mlic acid            178 non-null    float64\n",
            " 3   Ash                  178 non-null    float64\n",
            " 4   Ash_Alcanity         178 non-null    float64\n",
            " 5   Magnesium            178 non-null    int64  \n",
            " 6   Total_Phenols        178 non-null    float64\n",
            " 7   Flavanoids           178 non-null    float64\n",
            " 8   Nonflavanoidphenols  178 non-null    float64\n",
            " 9   Proanthocyanins      178 non-null    float64\n",
            " 10  Color_intensity      178 non-null    float64\n",
            " 11  Hue                  178 non-null    float64\n",
            " 12  OD280                178 non-null    float64\n",
            " 13  Proline              178 non-null    int64  \n",
            "dtypes: float64(11), int64(3)\n",
            "memory usage: 19.6 KB\n"
          ],
          "name": "stdout"
        }
      ]
    },
    {
      "cell_type": "code",
      "metadata": {
        "id": "ognhXEe1wACp",
        "colab_type": "code",
        "colab": {
          "base_uri": "https://localhost:8080/",
          "height": 34
        },
        "outputId": "bf2dd56e-81dd-46ec-f12b-4a943a77fbad"
      },
      "source": [
        "df.shape"
      ],
      "execution_count": 5,
      "outputs": [
        {
          "output_type": "execute_result",
          "data": {
            "text/plain": [
              "(178, 14)"
            ]
          },
          "metadata": {
            "tags": []
          },
          "execution_count": 5
        }
      ]
    },
    {
      "cell_type": "code",
      "metadata": {
        "id": "mob1KGfMwXha",
        "colab_type": "code",
        "colab": {
          "base_uri": "https://localhost:8080/",
          "height": 304
        },
        "outputId": "ed6a666d-f3b0-41af-d48a-7116b6413f62"
      },
      "source": [
        "df.describe()"
      ],
      "execution_count": 6,
      "outputs": [
        {
          "output_type": "execute_result",
          "data": {
            "text/html": [
              "<div>\n",
              "<style scoped>\n",
              "    .dataframe tbody tr th:only-of-type {\n",
              "        vertical-align: middle;\n",
              "    }\n",
              "\n",
              "    .dataframe tbody tr th {\n",
              "        vertical-align: top;\n",
              "    }\n",
              "\n",
              "    .dataframe thead th {\n",
              "        text-align: right;\n",
              "    }\n",
              "</style>\n",
              "<table border=\"1\" class=\"dataframe\">\n",
              "  <thead>\n",
              "    <tr style=\"text-align: right;\">\n",
              "      <th></th>\n",
              "      <th>Farm</th>\n",
              "      <th>Alcohol</th>\n",
              "      <th>Mlic acid</th>\n",
              "      <th>Ash</th>\n",
              "      <th>Ash_Alcanity</th>\n",
              "      <th>Magnesium</th>\n",
              "      <th>Total_Phenols</th>\n",
              "      <th>Flavanoids</th>\n",
              "      <th>Nonflavanoidphenols</th>\n",
              "      <th>Proanthocyanins</th>\n",
              "      <th>Color_intensity</th>\n",
              "      <th>Hue</th>\n",
              "      <th>OD280</th>\n",
              "      <th>Proline</th>\n",
              "    </tr>\n",
              "  </thead>\n",
              "  <tbody>\n",
              "    <tr>\n",
              "      <th>count</th>\n",
              "      <td>178.000000</td>\n",
              "      <td>178.000000</td>\n",
              "      <td>178.000000</td>\n",
              "      <td>178.000000</td>\n",
              "      <td>178.000000</td>\n",
              "      <td>178.000000</td>\n",
              "      <td>178.000000</td>\n",
              "      <td>178.000000</td>\n",
              "      <td>178.000000</td>\n",
              "      <td>178.000000</td>\n",
              "      <td>178.000000</td>\n",
              "      <td>178.000000</td>\n",
              "      <td>178.000000</td>\n",
              "      <td>178.000000</td>\n",
              "    </tr>\n",
              "    <tr>\n",
              "      <th>mean</th>\n",
              "      <td>1.938202</td>\n",
              "      <td>13.000618</td>\n",
              "      <td>2.336348</td>\n",
              "      <td>2.366517</td>\n",
              "      <td>19.494944</td>\n",
              "      <td>99.741573</td>\n",
              "      <td>2.295112</td>\n",
              "      <td>2.029270</td>\n",
              "      <td>0.361854</td>\n",
              "      <td>1.590899</td>\n",
              "      <td>5.058090</td>\n",
              "      <td>0.957449</td>\n",
              "      <td>2.611685</td>\n",
              "      <td>746.893258</td>\n",
              "    </tr>\n",
              "    <tr>\n",
              "      <th>std</th>\n",
              "      <td>0.775035</td>\n",
              "      <td>0.811827</td>\n",
              "      <td>1.117146</td>\n",
              "      <td>0.274344</td>\n",
              "      <td>3.339564</td>\n",
              "      <td>14.282484</td>\n",
              "      <td>0.625851</td>\n",
              "      <td>0.998859</td>\n",
              "      <td>0.124453</td>\n",
              "      <td>0.572359</td>\n",
              "      <td>2.318286</td>\n",
              "      <td>0.228572</td>\n",
              "      <td>0.709990</td>\n",
              "      <td>314.907474</td>\n",
              "    </tr>\n",
              "    <tr>\n",
              "      <th>min</th>\n",
              "      <td>1.000000</td>\n",
              "      <td>11.030000</td>\n",
              "      <td>0.740000</td>\n",
              "      <td>1.360000</td>\n",
              "      <td>10.600000</td>\n",
              "      <td>70.000000</td>\n",
              "      <td>0.980000</td>\n",
              "      <td>0.340000</td>\n",
              "      <td>0.130000</td>\n",
              "      <td>0.410000</td>\n",
              "      <td>1.280000</td>\n",
              "      <td>0.480000</td>\n",
              "      <td>1.270000</td>\n",
              "      <td>278.000000</td>\n",
              "    </tr>\n",
              "    <tr>\n",
              "      <th>25%</th>\n",
              "      <td>1.000000</td>\n",
              "      <td>12.362500</td>\n",
              "      <td>1.602500</td>\n",
              "      <td>2.210000</td>\n",
              "      <td>17.200000</td>\n",
              "      <td>88.000000</td>\n",
              "      <td>1.742500</td>\n",
              "      <td>1.205000</td>\n",
              "      <td>0.270000</td>\n",
              "      <td>1.250000</td>\n",
              "      <td>3.220000</td>\n",
              "      <td>0.782500</td>\n",
              "      <td>1.937500</td>\n",
              "      <td>500.500000</td>\n",
              "    </tr>\n",
              "    <tr>\n",
              "      <th>50%</th>\n",
              "      <td>2.000000</td>\n",
              "      <td>13.050000</td>\n",
              "      <td>1.865000</td>\n",
              "      <td>2.360000</td>\n",
              "      <td>19.500000</td>\n",
              "      <td>98.000000</td>\n",
              "      <td>2.355000</td>\n",
              "      <td>2.135000</td>\n",
              "      <td>0.340000</td>\n",
              "      <td>1.555000</td>\n",
              "      <td>4.690000</td>\n",
              "      <td>0.965000</td>\n",
              "      <td>2.780000</td>\n",
              "      <td>673.500000</td>\n",
              "    </tr>\n",
              "    <tr>\n",
              "      <th>75%</th>\n",
              "      <td>3.000000</td>\n",
              "      <td>13.677500</td>\n",
              "      <td>3.082500</td>\n",
              "      <td>2.557500</td>\n",
              "      <td>21.500000</td>\n",
              "      <td>107.000000</td>\n",
              "      <td>2.800000</td>\n",
              "      <td>2.875000</td>\n",
              "      <td>0.437500</td>\n",
              "      <td>1.950000</td>\n",
              "      <td>6.200000</td>\n",
              "      <td>1.120000</td>\n",
              "      <td>3.170000</td>\n",
              "      <td>985.000000</td>\n",
              "    </tr>\n",
              "    <tr>\n",
              "      <th>max</th>\n",
              "      <td>3.000000</td>\n",
              "      <td>14.830000</td>\n",
              "      <td>5.800000</td>\n",
              "      <td>3.230000</td>\n",
              "      <td>30.000000</td>\n",
              "      <td>162.000000</td>\n",
              "      <td>3.880000</td>\n",
              "      <td>5.080000</td>\n",
              "      <td>0.660000</td>\n",
              "      <td>3.580000</td>\n",
              "      <td>13.000000</td>\n",
              "      <td>1.710000</td>\n",
              "      <td>4.000000</td>\n",
              "      <td>1680.000000</td>\n",
              "    </tr>\n",
              "  </tbody>\n",
              "</table>\n",
              "</div>"
            ],
            "text/plain": [
              "             Farm     Alcohol   Mlic acid  ...         Hue       OD280      Proline\n",
              "count  178.000000  178.000000  178.000000  ...  178.000000  178.000000   178.000000\n",
              "mean     1.938202   13.000618    2.336348  ...    0.957449    2.611685   746.893258\n",
              "std      0.775035    0.811827    1.117146  ...    0.228572    0.709990   314.907474\n",
              "min      1.000000   11.030000    0.740000  ...    0.480000    1.270000   278.000000\n",
              "25%      1.000000   12.362500    1.602500  ...    0.782500    1.937500   500.500000\n",
              "50%      2.000000   13.050000    1.865000  ...    0.965000    2.780000   673.500000\n",
              "75%      3.000000   13.677500    3.082500  ...    1.120000    3.170000   985.000000\n",
              "max      3.000000   14.830000    5.800000  ...    1.710000    4.000000  1680.000000\n",
              "\n",
              "[8 rows x 14 columns]"
            ]
          },
          "metadata": {
            "tags": []
          },
          "execution_count": 6
        }
      ]
    },
    {
      "cell_type": "code",
      "metadata": {
        "id": "Sc4xLhjEwenV",
        "colab_type": "code",
        "colab": {
          "base_uri": "https://localhost:8080/",
          "height": 232
        },
        "outputId": "e5b60533-ceed-4b56-d11a-7364d32d8306"
      },
      "source": [
        "df.tail()"
      ],
      "execution_count": 7,
      "outputs": [
        {
          "output_type": "execute_result",
          "data": {
            "text/html": [
              "<div>\n",
              "<style scoped>\n",
              "    .dataframe tbody tr th:only-of-type {\n",
              "        vertical-align: middle;\n",
              "    }\n",
              "\n",
              "    .dataframe tbody tr th {\n",
              "        vertical-align: top;\n",
              "    }\n",
              "\n",
              "    .dataframe thead th {\n",
              "        text-align: right;\n",
              "    }\n",
              "</style>\n",
              "<table border=\"1\" class=\"dataframe\">\n",
              "  <thead>\n",
              "    <tr style=\"text-align: right;\">\n",
              "      <th></th>\n",
              "      <th>Farm</th>\n",
              "      <th>Alcohol</th>\n",
              "      <th>Mlic acid</th>\n",
              "      <th>Ash</th>\n",
              "      <th>Ash_Alcanity</th>\n",
              "      <th>Magnesium</th>\n",
              "      <th>Total_Phenols</th>\n",
              "      <th>Flavanoids</th>\n",
              "      <th>Nonflavanoidphenols</th>\n",
              "      <th>Proanthocyanins</th>\n",
              "      <th>Color_intensity</th>\n",
              "      <th>Hue</th>\n",
              "      <th>OD280</th>\n",
              "      <th>Proline</th>\n",
              "    </tr>\n",
              "  </thead>\n",
              "  <tbody>\n",
              "    <tr>\n",
              "      <th>173</th>\n",
              "      <td>3</td>\n",
              "      <td>13.48</td>\n",
              "      <td>1.67</td>\n",
              "      <td>2.64</td>\n",
              "      <td>22.5</td>\n",
              "      <td>89</td>\n",
              "      <td>2.60</td>\n",
              "      <td>1.10</td>\n",
              "      <td>0.52</td>\n",
              "      <td>2.29</td>\n",
              "      <td>11.75</td>\n",
              "      <td>0.57</td>\n",
              "      <td>1.78</td>\n",
              "      <td>620</td>\n",
              "    </tr>\n",
              "    <tr>\n",
              "      <th>174</th>\n",
              "      <td>1</td>\n",
              "      <td>13.83</td>\n",
              "      <td>1.65</td>\n",
              "      <td>2.60</td>\n",
              "      <td>17.2</td>\n",
              "      <td>94</td>\n",
              "      <td>2.45</td>\n",
              "      <td>2.99</td>\n",
              "      <td>0.22</td>\n",
              "      <td>2.29</td>\n",
              "      <td>5.60</td>\n",
              "      <td>1.24</td>\n",
              "      <td>3.37</td>\n",
              "      <td>1265</td>\n",
              "    </tr>\n",
              "    <tr>\n",
              "      <th>175</th>\n",
              "      <td>2</td>\n",
              "      <td>12.25</td>\n",
              "      <td>1.73</td>\n",
              "      <td>2.12</td>\n",
              "      <td>19.0</td>\n",
              "      <td>80</td>\n",
              "      <td>1.65</td>\n",
              "      <td>2.03</td>\n",
              "      <td>0.37</td>\n",
              "      <td>1.63</td>\n",
              "      <td>3.40</td>\n",
              "      <td>1.00</td>\n",
              "      <td>3.17</td>\n",
              "      <td>510</td>\n",
              "    </tr>\n",
              "    <tr>\n",
              "      <th>176</th>\n",
              "      <td>2</td>\n",
              "      <td>11.56</td>\n",
              "      <td>2.05</td>\n",
              "      <td>3.23</td>\n",
              "      <td>28.5</td>\n",
              "      <td>119</td>\n",
              "      <td>3.18</td>\n",
              "      <td>5.08</td>\n",
              "      <td>0.47</td>\n",
              "      <td>1.87</td>\n",
              "      <td>6.00</td>\n",
              "      <td>0.93</td>\n",
              "      <td>3.69</td>\n",
              "      <td>465</td>\n",
              "    </tr>\n",
              "    <tr>\n",
              "      <th>177</th>\n",
              "      <td>1</td>\n",
              "      <td>14.75</td>\n",
              "      <td>1.73</td>\n",
              "      <td>2.39</td>\n",
              "      <td>11.4</td>\n",
              "      <td>91</td>\n",
              "      <td>3.10</td>\n",
              "      <td>3.69</td>\n",
              "      <td>0.43</td>\n",
              "      <td>2.81</td>\n",
              "      <td>5.40</td>\n",
              "      <td>1.25</td>\n",
              "      <td>2.73</td>\n",
              "      <td>1150</td>\n",
              "    </tr>\n",
              "  </tbody>\n",
              "</table>\n",
              "</div>"
            ],
            "text/plain": [
              "     Farm  Alcohol  Mlic acid   Ash  ...  Color_intensity   Hue  OD280  Proline\n",
              "173     3    13.48       1.67  2.64  ...            11.75  0.57   1.78      620\n",
              "174     1    13.83       1.65  2.60  ...             5.60  1.24   3.37     1265\n",
              "175     2    12.25       1.73  2.12  ...             3.40  1.00   3.17      510\n",
              "176     2    11.56       2.05  3.23  ...             6.00  0.93   3.69      465\n",
              "177     1    14.75       1.73  2.39  ...             5.40  1.25   2.73     1150\n",
              "\n",
              "[5 rows x 14 columns]"
            ]
          },
          "metadata": {
            "tags": []
          },
          "execution_count": 7
        }
      ]
    },
    {
      "cell_type": "code",
      "metadata": {
        "id": "1Y6qrG8NLDkJ",
        "colab_type": "code",
        "colab": {
          "base_uri": "https://localhost:8080/",
          "height": 435
        },
        "outputId": "ed33a1f7-c0bb-45cc-aa9c-7226e6e1d7a7"
      },
      "source": [
        "import matplotlib.pyplot as plt\n",
        "import seaborn as sns\n",
        "\n",
        "\n",
        "sns.heatmap(df.isnull())"
      ],
      "execution_count": 8,
      "outputs": [
        {
          "output_type": "stream",
          "text": [
            "/usr/local/lib/python3.6/dist-packages/statsmodels/tools/_testing.py:19: FutureWarning: pandas.util.testing is deprecated. Use the functions in the public API at pandas.testing instead.\n",
            "  import pandas.util.testing as tm\n"
          ],
          "name": "stderr"
        },
        {
          "output_type": "execute_result",
          "data": {
            "text/plain": [
              "<matplotlib.axes._subplots.AxesSubplot at 0x7efe393c7c50>"
            ]
          },
          "metadata": {
            "tags": []
          },
          "execution_count": 8
        },
        {
          "output_type": "display_data",
          "data": {
            "image/png": "[encoded data removed]",
            "text/plain": [
              "<Figure size 432x288 with 2 Axes>"
            ]
          },
          "metadata": {
            "tags": [],
            "needs_background": "light"
          }
        }
      ]
    },
    {
      "cell_type": "markdown",
      "metadata": {
        "id": "TjVjkCc2wqRx",
        "colab_type": "text"
      },
      "source": [
        "There are no missing values in this dataset. k = square root of 177 k = 13"
      ]
    },
    {
      "cell_type": "code",
      "metadata": {
        "id": "8apW32EcwvjS",
        "colab_type": "code",
        "colab": {
          "base_uri": "https://localhost:8080/",
          "height": 84
        },
        "outputId": "77078130-4e47-489e-ca01-3ea8455e80ae"
      },
      "source": [
        "df.columns"
      ],
      "execution_count": 9,
      "outputs": [
        {
          "output_type": "execute_result",
          "data": {
            "text/plain": [
              "Index(['Farm', 'Alcohol', 'Mlic acid', 'Ash', 'Ash_Alcanity', 'Magnesium',\n",
              "       'Total_Phenols', 'Flavanoids', 'Nonflavanoidphenols', 'Proanthocyanins',\n",
              "       'Color_intensity', 'Hue', 'OD280', 'Proline'],\n",
              "      dtype='object')"
            ]
          },
          "metadata": {
            "tags": []
          },
          "execution_count": 9
        }
      ]
    },
    {
      "cell_type": "code",
      "metadata": {
        "id": "FmKtKHfE5KJU",
        "colab_type": "code",
        "colab": {
          "base_uri": "https://localhost:8080/",
          "height": 34
        },
        "outputId": "9bd9ad35-d6ac-4daa-b88b-20a22190f833"
      },
      "source": [
        "df['Farm'].unique()"
      ],
      "execution_count": 10,
      "outputs": [
        {
          "output_type": "execute_result",
          "data": {
            "text/plain": [
              "array([3, 1, 2])"
            ]
          },
          "metadata": {
            "tags": []
          },
          "execution_count": 10
        }
      ]
    },
    {
      "cell_type": "code",
      "metadata": {
        "id": "0sq1Rn0n87x-",
        "colab_type": "code",
        "colab": {
          "base_uri": "https://localhost:8080/",
          "height": 330
        },
        "outputId": "8de61393-d1ee-454e-b253-b474531b8734"
      },
      "source": [
        "print(df.Farm.value_counts())\n",
        "p=df.Farm.value_counts().plot(kind=\"bar\")"
      ],
      "execution_count": 11,
      "outputs": [
        {
          "output_type": "stream",
          "text": [
            "2    71\n",
            "1    59\n",
            "3    48\n",
            "Name: Farm, dtype: int64\n"
          ],
          "name": "stdout"
        },
        {
          "output_type": "display_data",
          "data": {
            "image/png": "[encoded data removed]",
            "text/plain": [
              "<Figure size 432x288 with 1 Axes>"
            ]
          },
          "metadata": {
            "tags": [],
            "needs_background": "light"
          }
        }
      ]
    },
    {
      "cell_type": "markdown",
      "metadata": {
        "id": "k4IkTRtV9Vsh",
        "colab_type": "text"
      },
      "source": [
        "Almost balanced dataset."
      ]
    },
    {
      "cell_type": "code",
      "metadata": {
        "id": "_Phn9CTKoFVp",
        "colab_type": "code",
        "colab": {}
      },
      "source": [
        "# Inputs and Output\n",
        "x = df.iloc[:,1:14].values\n",
        "y = df.iloc[:,0].values"
      ],
      "execution_count": 12,
      "outputs": []
    },
    {
      "cell_type": "code",
      "metadata": {
        "id": "o6fVVuaY51s5",
        "colab_type": "code",
        "colab": {}
      },
      "source": [
        "from sklearn.model_selection import train_test_split\n",
        "x_train,x_test,y_train,y_test = train_test_split(x,y,test_size = 1/4,random_state = 4)"
      ],
      "execution_count": 13,
      "outputs": []
    },
    {
      "cell_type": "markdown",
      "metadata": {
        "id": "GefhWFZ7FFjo",
        "colab_type": "text"
      },
      "source": [
        "Loading model"
      ]
    },
    {
      "cell_type": "code",
      "metadata": {
        "id": "jqsgPN8i6ouF",
        "colab_type": "code",
        "colab": {}
      },
      "source": [
        "from sklearn.neighbors import KNeighborsClassifier"
      ],
      "execution_count": 14,
      "outputs": []
    },
    {
      "cell_type": "markdown",
      "metadata": {
        "id": "Gl4iX9DNAFAT",
        "colab_type": "text"
      },
      "source": [
        "Using standard scalar to scale the data.\n"
      ]
    },
    {
      "cell_type": "code",
      "metadata": {
        "id": "PQCt1w2r8KMd",
        "colab_type": "code",
        "colab": {}
      },
      "source": [
        "from sklearn.preprocessing import StandardScaler\n",
        "sc_X = StandardScaler()\n",
        "x_train =  sc_X.fit_transform(x_train)\n",
        "x_test = sc_X.transform(x_test)"
      ],
      "execution_count": 15,
      "outputs": []
    },
    {
      "cell_type": "code",
      "metadata": {
        "id": "yF0bUk4NDbAx",
        "colab_type": "code",
        "colab": {
          "base_uri": "https://localhost:8080/",
          "height": 1000
        },
        "outputId": "ce82db8d-3fc3-4e42-a88b-2aefa9681965"
      },
      "source": [
        "x_test"
      ],
      "execution_count": 16,
      "outputs": [
        {
          "output_type": "execute_result",
          "data": {
            "text/plain": [
              "array([[-1.1539997 , -0.88366594, -0.26507816,  1.32549777, -2.30385222,\n",
              "        -0.21397034, -0.48798407,  0.47356623, -0.3620946 , -1.48152702,\n",
              "         0.44611426,  0.80893642, -0.39883421],\n",
              "       [-1.1539997 , -0.82809735,  0.43652175,  0.98504777, -1.19509729,\n",
              "         0.36713573,  0.20700319,  0.55452293, -0.97306167, -0.94896571,\n",
              "        -0.18014083,  0.77980726, -1.15688993],\n",
              "       [-0.60309532,  2.98761257,  0.92764168,  1.75879778, -0.24473592,\n",
              "        -0.87578559, -1.47089463,  2.17365684, -0.86524395,  0.0151539 ,\n",
              "        -0.6721984 , -1.40487956, -0.74627641],\n",
              "       [-0.89691099, -0.80957449, -1.38763801, -1.02670228, -1.11590051,\n",
              "         0.35099389,  0.41549937, -0.57887081,  0.33872058, -0.94896571,\n",
              "         1.16183436,  0.12440121, -1.02107162],\n",
              "       [-0.54188373, -0.92071167, -0.96667807,  0.21129775,  0.30964155,\n",
              "        -1.37618249, -1.49075141,  1.36408989, -0.32615536,  1.20882581,\n",
              "        -1.74577855, -1.60878366, -0.35145572],\n",
              "       [ 0.92719463,  0.44071881, -0.26507816,  0.83029776, -0.7199166 ,\n",
              "        -1.58602635, -1.39146751,  0.39260954, -0.99103129,  2.11785287,\n",
              "        -1.20898847, -1.41944414, -0.43041986],\n",
              "       [-0.17461414,  0.65373175,  0.08572179,  0.21129775,  0.38883833,\n",
              "        -1.66673553, -0.85533448, -0.98365429, -1.35042369,  0.19879573,\n",
              "        -1.03005845, -1.79812319, -0.69889793],\n",
              "       [-0.07667558,  1.07975761, -0.08967818, -0.25295226,  0.54723189,\n",
              "        -1.52145901, -1.37161073,  0.31165284, -1.15275787,  0.14370318,\n",
              "        -1.29845348, -1.31749209, -0.24090593],\n",
              "       [ 0.25386705,  0.94083613, -0.33523815, -0.25295226, -0.08634236,\n",
              "        -0.85964376, -1.24254167,  2.01174345,  0.51841678,  2.54941118,\n",
              "        -1.83524356, -1.66704198, -0.24090593],\n",
              "       [ 0.91495231, -0.35576433,  1.06796166, -0.68625227,  1.26000292,\n",
              "         1.07737649,  0.70342266,  0.23069615,  0.176994  ,  0.61198985,\n",
              "         0.71450929,  0.40112821,  1.97008994],\n",
              "       [ 0.07023225,  1.49652204, -0.05459819,  0.67554776,  1.10160936,\n",
              "        -1.48917534, -0.68655186, -0.17408733, -0.79336547,  2.03521405,\n",
              "        -1.79051105, -1.9292044 , -0.63572662],\n",
              "       [ 0.10695921, -0.35576433,  1.31352163,  1.91354779,  1.3391997 ,\n",
              "        -0.21397034, -0.79576415, -0.8217409 , -0.03864144,  0.97927352,\n",
              "        -1.61158103, -1.9292044 , -1.03054731],\n",
              "       [-0.19909878, -0.86514308, -0.19491817, -0.40770226,  1.81438039,\n",
              "        -1.32775699, -0.82554931, -1.22652437, -1.15275787, -0.39804022,\n",
              "        -0.94059344, -1.98746271, -0.38304138],\n",
              "       [ 0.30283633,  1.84845646, -0.40539814,  0.21129775,  1.65598682,\n",
              "        -1.1986223 , -1.38153912,  0.55452293, -0.41600346,  2.40249771,\n",
              "        -1.70104604, -1.59421909,  0.26446455],\n",
              "       [ 0.0335053 ,  3.2561941 , -0.86143808,  0.67554776, -1.03670373,\n",
              "         0.46398674,  0.56442521, -0.49791411,  0.76999146, -1.08669708,\n",
              "        -1.07479095,  0.64872605, -1.17268276],\n",
              "       [ 0.84149839, -0.39281005, -0.05459819, -0.84100227,  0.15124799,\n",
              "         0.44784491,  0.79277816, -0.7407842 ,  0.19496362, -0.53577159,\n",
              "         0.62504428,  1.95953814,  0.89617766],\n",
              "       [ 2.21263818, -0.59656155, -0.7211181 , -1.64570229, -0.16553914,\n",
              "         0.75453978,  0.89206206, -0.57887081,  0.7160826 ,  0.10697482,\n",
              "         0.49084676,  0.28461158,  0.92776332],\n",
              "       [ 1.42912973, -0.64286871,  0.36636176, -0.87195227,  0.70562545,\n",
              "         1.56163155,  1.83525905, -0.33600072,  0.50044716,  1.71384084,\n",
              "         1.16183436,  0.24091784,  2.93345243],\n",
              "       [-0.37049125, -0.43911721, -0.61587811, -0.16010226, -1.03670373,\n",
              "        -0.21397034,  0.44528453, -0.8217409 ,  0.33872058, -0.48986113,\n",
              "         0.84870681,  0.70698437, -0.11772187],\n",
              "       [ 0.52319808,  1.31129341,  0.7873217 ,  1.13979777,  0.9432158 ,\n",
              "        -1.02106211, -1.15318617,  0.55452293, -0.21833764,  2.62286791,\n",
              "        -0.53800088, -1.59421909, -0.17773462],\n",
              "       [-0.03994862, -0.56877726,  0.7873217 ,  3.30629782,  3.16072566,\n",
              "         1.56163155,  0.80270655, -1.22652437,  0.68014336, -0.74236865,\n",
              "         1.51969441,  1.2313092 ,  0.73824938],\n",
              "       [-0.70103388,  0.69077747,  0.92764168,  2.3777978 , -0.16553914,\n",
              "        -0.69822541, -1.49075141,  2.17365684, -0.79336547,  1.16291535,\n",
              "        -1.34318599, -1.34662125,  0.4066    ],\n",
              "       [ 1.46585669,  1.57987493,  0.47160174, -1.8933023 ,  2.28956107,\n",
              "         1.07737649,  0.95163239, -1.30748107,  0.8957788 ,  0.06106436,\n",
              "        -0.35907085,  1.27500294,  0.02757214],\n",
              "       [-1.1539997 , -0.42059435, -0.19491817, -0.25295226, -1.43268763,\n",
              "        -1.18248047, -0.57733958,  1.28313319,  0.10511552, -1.178518  ,\n",
              "         0.49084676, -0.56013399, -0.85682621],\n",
              "       [-1.69266177, -0.20758142,  0.29620177,  0.70649776, -1.19509729,\n",
              "        -0.61751623, -0.38870018,  0.95930641, -0.41600346, -0.99487617,\n",
              "         0.13298671,  0.13896579, -0.2251131 ],\n",
              "       [ 0.4130172 ,  0.25549018, -0.08967818,  0.21129775, -0.79911338,\n",
              "        -1.50531717, -1.57017852,  0.06878276, -1.69184647,  0.29061665,\n",
              "        -1.20898847, -0.26884241,  0.09074345],\n",
              "       [ 1.64949148, -0.30945717,  0.43652175, -0.77910227,  1.10160936,\n",
              "         2.44943249,  1.39840992, -0.98365429,  1.075475  ,  1.30064672,\n",
              "        -0.49326837,  1.15848631,  2.30173932],\n",
              "       [-0.73776084, -0.62434585, -0.65095811,  0.98504777,  0.70562545,\n",
              "        -0.53680705,  0.0084354 , -0.17408733,  0.05120666, -1.33461356,\n",
              "         0.40138175,  0.44482195, -1.28323255],\n",
              "       [-0.61533764,  0.13509156, -0.7211181 ,  0.52079776, -0.87831016,\n",
              "         0.35099389,  0.18714641, -0.8217409 , -0.64960851, -1.36215983,\n",
              "        -0.31433835,  0.18265953, -1.34640387],\n",
              "       [ 0.0335053 , -0.51320867, -1.17715804, -2.1409023 , -0.56152304,\n",
              "         0.6254051 ,  1.17998535, -1.55035116,  2.38725725,  1.02518398,\n",
              "         0.66977679,  0.37199905,  1.2594127 ],\n",
              "       [ 0.18041313,  2.69124675, -0.19491817,  0.83029776, -0.48232626,\n",
              "        -0.95649477, -1.44110946,  2.01174345, -0.05661106,  1.34655718,\n",
              "        -1.65631353, -1.71073572, -0.08297765],\n",
              "       [-1.68041945, -0.56877726,  0.85748169,  2.06829779, -0.87831016,\n",
              "        -0.66594173, -0.46812729,  0.31165284, -0.43397308, -1.08669708,\n",
              "         1.74335694,  0.80893642, -0.59782383],\n",
              "       [ 0.4742288 ,  1.44095345, -0.89651808, -0.16010226, -0.7199166 ,\n",
              "         0.18957554,  0.59421038, -0.7407842 , -0.1823984 , -0.31540139,\n",
              "        -0.26960584,  0.50308026,  0.89617766],\n",
              "       [ 1.31894885, -0.24462714,  0.08572179, -0.16010226,  0.30964155,\n",
              "         0.6738306 ,  0.83249172, -0.33600072,  1.43486739,  0.5660794 ,\n",
              "         0.44611426,  0.13896579,  0.9751418 ],\n",
              "       [-0.67654924, -0.70769874, -0.61587811, -0.09820226,  4.98225162,\n",
              "         0.27028472,  0.18714641, -0.33600072,  3.05213318, -1.08669708,\n",
              "         0.84870681, -0.03580915,  0.58663824],\n",
              "       [-0.99484955, -1.01332599, -2.19447791, -0.77910227,  4.11108703,\n",
              "        -0.77893458, -0.79576415, -1.79322124,  1.65050283, -0.97192094,\n",
              "         1.38549689,  0.60503232, -0.10508761],\n",
              "       [-0.30927965,  0.09804583, -0.33523815,  0.05654775, -1.03670373,\n",
              "        -1.52145901, -1.56025013,  0.95930641, -1.69184647,  2.26476588,\n",
              "        -1.79051105, -1.49226703, -0.88841186],\n",
              "       [-1.16624202, -0.1149671 , -0.7211181 ,  0.52079776, -1.11590051,\n",
              "         0.43170307,  0.56442521,  0.06878276, -0.41600346, -1.01324035,\n",
              "        -0.49326837,  0.91088847, -1.17899989],\n",
              "       [ 1.35567581,  1.68175068,  1.27844164,  1.60404778, -0.24473592,\n",
              "        -0.45609787, -1.3120404 ,  1.60695997, -0.41600346,  1.94339313,\n",
              "        -1.61158103, -1.53596077, -0.60414097],\n",
              "       [-0.2113411 , -0.63360728,  0.50668174, -0.46960227, -0.3239327 ,\n",
              "         0.23800105,  0.2864303 , -0.8217409 , -0.21833764, -0.476088  ,\n",
              "         0.53557927,  1.42064873,  0.83300635],\n",
              "       [-1.91302352,  1.34833914, -1.94891794,  0.05654775,  0.62642867,\n",
              "         1.36792952,  0.49492648, -0.98365429,  3.59122178, -0.94896571,\n",
              "        -0.98532594,  0.22635327, -0.59782383],\n",
              "       [ 0.596652  , -0.44837864,  0.96272168, -0.09820226,  0.86401902,\n",
              "         0.02815719,  0.44528453, -0.57887081, -0.07458068, -0.35212976,\n",
              "         0.58031178,  0.31374074,  1.08569159],\n",
              "       [-0.37049125, -0.4946858 , -0.33523815,  0.98504777, -1.19509729,\n",
              "        -1.53760085, -0.31920145,  0.95930641,  0.0871459 , -0.76532388,\n",
              "        -0.40380336, -0.34166531, -0.83155768],\n",
              "       [-0.79897244, -0.99480312,  0.64700172, -0.37675226, -0.08634236,\n",
              "         0.14115003,  0.56442521,  0.06878276,  0.8957788 , -0.16848793,\n",
              "         0.98290433, -0.51644025, -0.23143023],\n",
              "       [-1.66817713, -0.37428719, -1.59811798, -1.02670228, -0.16553914,\n",
              "        -1.16633863, -0.50784085, -0.17408733, -0.77539585, -0.53577159,\n",
              "         1.16183436, -0.74947351, -1.02107162]])"
            ]
          },
          "metadata": {
            "tags": []
          },
          "execution_count": 16
        }
      ]
    },
    {
      "cell_type": "code",
      "metadata": {
        "id": "QuMi1DReDxCe",
        "colab_type": "code",
        "colab": {
          "base_uri": "https://localhost:8080/",
          "height": 34
        },
        "outputId": "5e7675a4-4c8c-4458-e8e2-06da149ba7b3"
      },
      "source": [
        "x_train.shape"
      ],
      "execution_count": 17,
      "outputs": [
        {
          "output_type": "execute_result",
          "data": {
            "text/plain": [
              "(133, 13)"
            ]
          },
          "metadata": {
            "tags": []
          },
          "execution_count": 17
        }
      ]
    },
    {
      "cell_type": "code",
      "metadata": {
        "id": "xKU6qvqLD1im",
        "colab_type": "code",
        "colab": {
          "base_uri": "https://localhost:8080/",
          "height": 34
        },
        "outputId": "82282489-6d74-48ff-c262-4fdfd7012843"
      },
      "source": [
        "x_test.shape"
      ],
      "execution_count": 18,
      "outputs": [
        {
          "output_type": "execute_result",
          "data": {
            "text/plain": [
              "(45, 13)"
            ]
          },
          "metadata": {
            "tags": []
          },
          "execution_count": 18
        }
      ]
    },
    {
      "cell_type": "code",
      "metadata": {
        "id": "959ufdw0D5i-",
        "colab_type": "code",
        "colab": {
          "base_uri": "https://localhost:8080/",
          "height": 235
        },
        "outputId": "adf09d58-926f-4bab-ad40-7f25da07d71f"
      },
      "source": [
        "x_train"
      ],
      "execution_count": 19,
      "outputs": [
        {
          "output_type": "execute_result",
          "data": {
            "text/plain": [
              "array([[-0.79897244, -1.06889458, -0.7561981 , ...,  1.11710185,\n",
              "         0.31374074, -1.04634014],\n",
              "       [ 1.6617338 ,  1.20941766, -0.33523815, ...,  0.31191674,\n",
              "         1.14392173,  0.99093463],\n",
              "       [ 1.47809901, -0.53173153,  0.19096178, ...,  0.31191674,\n",
              "         1.84302151,  0.99093463],\n",
              "       ...,\n",
              "       [ 1.39240277,  0.20918302,  0.36636176, ..., -1.56684852,\n",
              "        -1.3757504 , -0.28828441],\n",
              "       [ 0.98840622, -0.58730012,  0.7873217 , ...,  1.20656686,\n",
              "         1.04196968,  1.62264773],\n",
              "       [-1.97423512, -1.43009042,  0.43652175, ...,  0.58031178,\n",
              "        -0.50187567, -1.00212022]])"
            ]
          },
          "metadata": {
            "tags": []
          },
          "execution_count": 19
        }
      ]
    },
    {
      "cell_type": "markdown",
      "metadata": {
        "id": "DdXjqFgzFYYb",
        "colab_type": "text"
      },
      "source": [
        "Fitting model"
      ]
    },
    {
      "cell_type": "code",
      "metadata": {
        "id": "i9jZpr1VpBFC",
        "colab_type": "code",
        "colab": {}
      },
      "source": [
        "model = KNeighborsClassifier(n_neighbors=13)"
      ],
      "execution_count": 20,
      "outputs": []
    },
    {
      "cell_type": "code",
      "metadata": {
        "id": "dgYi4oT1pJwv",
        "colab_type": "code",
        "colab": {}
      },
      "source": [
        "model.fit(x_train,y_train)\n",
        "y_pred = model.predict(x_test)"
      ],
      "execution_count": 21,
      "outputs": []
    },
    {
      "cell_type": "markdown",
      "metadata": {
        "id": "vHisM5lUDFvr",
        "colab_type": "text"
      },
      "source": [
        "Accuracy score"
      ]
    },
    {
      "cell_type": "code",
      "metadata": {
        "id": "5majFdg-p7kw",
        "colab_type": "code",
        "colab": {
          "base_uri": "https://localhost:8080/",
          "height": 34
        },
        "outputId": "980c5d70-7717-4c57-ac49-0d24fa032ecc"
      },
      "source": [
        "from sklearn.metrics import accuracy_score\n",
        "accuracy_score(y_test,y_pred)*100"
      ],
      "execution_count": 22,
      "outputs": [
        {
          "output_type": "execute_result",
          "data": {
            "text/plain": [
              "91.11111111111111"
            ]
          },
          "metadata": {
            "tags": []
          },
          "execution_count": 22
        }
      ]
    },
    {
      "cell_type": "markdown",
      "metadata": {
        "id": "Dwun5rktC2LI",
        "colab_type": "text"
      },
      "source": [
        "Checking for a value"
      ]
    },
    {
      "cell_type": "code",
      "metadata": {
        "id": "s3sfshBZ-oB3",
        "colab_type": "code",
        "colab": {
          "base_uri": "https://localhost:8080/",
          "height": 34
        },
        "outputId": "c323b4e5-59cb-46c2-cc50-18a931a0c730"
      },
      "source": [
        "y_check = model.predict([x_test[0]])\n",
        "y_check"
      ],
      "execution_count": 23,
      "outputs": [
        {
          "output_type": "execute_result",
          "data": {
            "text/plain": [
              "array([2])"
            ]
          },
          "metadata": {
            "tags": []
          },
          "execution_count": 23
        }
      ]
    },
    {
      "cell_type": "code",
      "metadata": {
        "id": "RgvOkV_V_C8j",
        "colab_type": "code",
        "colab": {
          "base_uri": "https://localhost:8080/",
          "height": 34
        },
        "outputId": "b635fbcb-331d-4a6e-e276-96445b719320"
      },
      "source": [
        "y_test[0]"
      ],
      "execution_count": 24,
      "outputs": [
        {
          "output_type": "execute_result",
          "data": {
            "text/plain": [
              "2"
            ]
          },
          "metadata": {
            "tags": []
          },
          "execution_count": 24
        }
      ]
    },
    {
      "cell_type": "markdown",
      "metadata": {
        "id": "20ig-nkfC8QX",
        "colab_type": "text"
      },
      "source": [
        "The prediction is correct in this case"
      ]
    },
    {
      "cell_type": "markdown",
      "metadata": {
        "id": "nxnSBS_6Fdum",
        "colab_type": "text"
      },
      "source": [
        "Confusion matrix and classification report"
      ]
    },
    {
      "cell_type": "code",
      "metadata": {
        "id": "FjeFxqS5qHwa",
        "colab_type": "code",
        "colab": {
          "base_uri": "https://localhost:8080/",
          "height": 67
        },
        "outputId": "da4d60aa-6ce4-4745-caa6-848925affc7f"
      },
      "source": [
        "from sklearn.metrics import confusion_matrix\n",
        "confusion_matrix(y_test,y_pred)"
      ],
      "execution_count": 25,
      "outputs": [
        {
          "output_type": "execute_result",
          "data": {
            "text/plain": [
              "array([[11,  0,  0],\n",
              "       [ 4, 14,  0],\n",
              "       [ 0,  0, 16]])"
            ]
          },
          "metadata": {
            "tags": []
          },
          "execution_count": 25
        }
      ]
    },
    {
      "cell_type": "code",
      "metadata": {
        "id": "uGJHUeRNsqsR",
        "colab_type": "code",
        "colab": {
          "base_uri": "https://localhost:8080/",
          "height": 185
        },
        "outputId": "599400ab-86ea-4259-8e0f-af7d265df25f"
      },
      "source": [
        "from sklearn.metrics import classification_report\n",
        "print(classification_report(y_test,y_pred))"
      ],
      "execution_count": 26,
      "outputs": [
        {
          "output_type": "stream",
          "text": [
            "              precision    recall  f1-score   support\n",
            "\n",
            "           1       0.73      1.00      0.85        11\n",
            "           2       1.00      0.78      0.88        18\n",
            "           3       1.00      1.00      1.00        16\n",
            "\n",
            "    accuracy                           0.91        45\n",
            "   macro avg       0.91      0.93      0.91        45\n",
            "weighted avg       0.93      0.91      0.91        45\n",
            "\n"
          ],
          "name": "stdout"
        }
      ]
    },
    {
      "cell_type": "markdown",
      "metadata": {
        "id": "u5kZa1b5DOLi",
        "colab_type": "text"
      },
      "source": [
        "The classification report is also satisfactory"
      ]
    }
  ]
}